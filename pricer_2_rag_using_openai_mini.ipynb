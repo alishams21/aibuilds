{
 "cells": [
  {
   "cell_type": "markdown",
   "id": "2a0f44a9-37cd-4aa5-9b20-cfc0dc8dfc0a",
   "metadata": {},
   "source": [
    "# The Price is Right\n",
    "\n",
    "Today we build a more complex solution for estimating prices of goods.\n",
    "\n",
    "1. Day 2.0 notebook: create a RAG database with our 400,000 training data\n",
    "2. Day 2.1 notebook: visualize in 2D\n",
    "3. Day 2.2 notebook: visualize in 3D\n",
    "4. Day 2.3 notebook: build and test a RAG pipeline with GPT-4o-mini\n",
    "5. Day 2.4 notebook: (a) bring back our Random Forest pricer (b) Create a Ensemble pricer that allows contributions from all the pricers\n",
    "\n",
    "Phew! That's a lot to get through in one day!\n",
    "\n",
    "## PLEASE NOTE:\n",
    "\n",
    "We already have a very powerful product estimator with our proprietary, fine-tuned LLM. Most people would be very satisfied with that! The main reason we're adding these extra steps is to deepen your expertise with RAG and with Agentic workflows.\n",
    "\n",
    "## We will go fast today! Hold on to your hat.."
   ]
  },
  {
   "cell_type": "code",
   "execution_count": 1,
   "id": "fbcdfea8-7241-46d7-a771-c0381a3e7063",
   "metadata": {},
   "outputs": [],
   "source": [
    "# imports\n",
    "\n",
    "import os\n",
    "import re\n",
    "import math\n",
    "import json\n",
    "from tqdm import tqdm\n",
    "import random\n",
    "from dotenv import load_dotenv\n",
    "from huggingface_hub import login\n",
    "import matplotlib.pyplot as plt\n",
    "import numpy as np\n",
    "import pickle\n",
    "from openai import OpenAI\n",
    "from sentence_transformers import SentenceTransformer\n",
    "from datasets import load_dataset\n",
    "import chromadb\n",
    "from testing import Tester"
   ]
  },
  {
   "cell_type": "code",
   "execution_count": 2,
   "id": "98666e73-938e-469d-8987-e6e55ba5e034",
   "metadata": {},
   "outputs": [],
   "source": [
    "# environment\n",
    "\n",
    "load_dotenv(override=True)\n",
    "os.environ['OPENAI_API_KEY'] = os.getenv('OPENAI_API_KEY', 'your-key-if-not-using-env')\n",
    "os.environ['HF_TOKEN'] = os.getenv('HF_TOKEN', 'your-key-if-not-using-env')"
   ]
  },
  {
   "cell_type": "code",
   "execution_count": 3,
   "id": "ce73b034-9ec1-4533-ba41-3e57c7878b61",
   "metadata": {},
   "outputs": [
    {
     "name": "stderr",
     "output_type": "stream",
     "text": [
      "Note: Environment variable`HF_TOKEN` is set and is the current active token independently from the token you've just configured.\n"
     ]
    }
   ],
   "source": [
    "# Log in to HuggingFace\n",
    "\n",
    "hf_token = os.environ['HF_TOKEN']\n",
    "login(hf_token, add_to_git_credential=True)"
   ]
  },
  {
   "cell_type": "code",
   "execution_count": 4,
   "id": "4c01daad-86b0-4bc0-91ba-20a64df043ed",
   "metadata": {},
   "outputs": [],
   "source": [
    "# Another import after Logging in to Hugging Face - thank you Trung N.!\n",
    "\n",
    "from items import Item"
   ]
  },
  {
   "cell_type": "code",
   "execution_count": 5,
   "id": "9a25a5cf-8f6c-4b5d-ad98-fdd096f5adf8",
   "metadata": {},
   "outputs": [],
   "source": [
    "openai = OpenAI()"
   ]
  },
  {
   "cell_type": "code",
   "execution_count": 6,
   "id": "dc696493-0b6f-48aa-9fa8-b1ae0ecaf3cd",
   "metadata": {},
   "outputs": [],
   "source": [
    "# Load in the test pickle file\n",
    "# See the section \"Back to the PKL files\" in the day2.0 notebook\n",
    "# for instructions on obtaining this test.pkl file\n",
    "\n",
    "with open('test.pkl', 'rb') as file:\n",
    "    test = pickle.load(file)"
   ]
  },
  {
   "cell_type": "code",
   "execution_count": 7,
   "id": "33d38a06-0c0d-4e96-94d1-35ee183416ce",
   "metadata": {},
   "outputs": [],
   "source": [
    "def make_context(similars, prices):\n",
    "    message = \"To provide some context, here are some other items that might be similar to the item you need to estimate.\\n\\n\"\n",
    "    for similar, price in zip(similars, prices):\n",
    "        message += f\"Potentially related product:\\n{similar}\\nPrice is ${price:.2f}\\n\\n\"\n",
    "    return message"
   ]
  },
  {
   "cell_type": "code",
   "execution_count": 8,
   "id": "61f203b7-63b6-48ed-869b-e393b5bfcad3",
   "metadata": {},
   "outputs": [],
   "source": [
    "def messages_for(item, similars, prices):\n",
    "    system_message = \"You estimate prices of items. Reply only with the price, no explanation\"\n",
    "    user_prompt = make_context(similars, prices)\n",
    "    user_prompt += \"And now the question for you:\\n\\n\"\n",
    "    user_prompt += item.test_prompt().replace(\" to the nearest dollar\",\"\").replace(\"\\n\\nPrice is $\",\"\")\n",
    "    return [\n",
    "        {\"role\": \"system\", \"content\": system_message},\n",
    "        {\"role\": \"user\", \"content\": user_prompt},\n",
    "        {\"role\": \"assistant\", \"content\": \"Price is $\"}\n",
    "    ]"
   ]
  },
  {
   "cell_type": "code",
   "execution_count": 9,
   "id": "b26f405d-6e1f-4caa-b97f-1f62cd9d1ebc",
   "metadata": {},
   "outputs": [],
   "source": [
    "DB = \"products_vectorstore\""
   ]
  },
  {
   "cell_type": "code",
   "execution_count": 10,
   "id": "d26a1104-cd11-4361-ab25-85fb576e0582",
   "metadata": {},
   "outputs": [],
   "source": [
    "client = chromadb.PersistentClient(path=DB)\n",
    "collection = client.get_or_create_collection('products')"
   ]
  },
  {
   "cell_type": "code",
   "execution_count": 11,
   "id": "1e339760-96d8-4485-bec7-43fadcd30c4d",
   "metadata": {},
   "outputs": [],
   "source": [
    "def description(item):\n",
    "    text = item.prompt.replace(\"How much does this cost to the nearest dollar?\\n\\n\", \"\")\n",
    "    return text.split(\"\\n\\nPrice is $\")[0]"
   ]
  },
  {
   "cell_type": "code",
   "execution_count": 12,
   "id": "a1bd0c87-8bad-43d9-9461-bb69a9e0e22c",
   "metadata": {},
   "outputs": [
    {
     "data": {
      "text/plain": [
       "\"OEM AC Compressor w/A/C Repair Kit For Ford F150 F-150 V8 & Lincoln Mark LT 2007 2008 - BuyAutoParts NEW\\nAs one of the world's largest automotive parts suppliers, our parts are trusted every day by mechanics and vehicle owners worldwide. This A/C Compressor and Components Kit is manufactured and tested to the strictest OE standards for unparalleled performance. Built for trouble-free ownership and 100% visually inspected and quality tested, this A/C Compressor and Components Kit is backed by our 100% satisfaction guarantee. Guaranteed Exact Fit for easy installation 100% BRAND NEW, premium ISO/TS 16949 quality - tested to meet or exceed OEM specifications Engineered for superior durability, backed by industry-leading unlimited-mileage warranty Included in this K\""
      ]
     },
     "execution_count": 12,
     "metadata": {},
     "output_type": "execute_result"
    }
   ],
   "source": [
    "description(test[0])"
   ]
  },
  {
   "cell_type": "code",
   "execution_count": 13,
   "id": "9f759bd2-7a7e-4c1a-80a0-e12470feca89",
   "metadata": {},
   "outputs": [],
   "source": [
    "model = SentenceTransformer('sentence-transformers/all-MiniLM-L6-v2')"
   ]
  },
  {
   "cell_type": "code",
   "execution_count": 14,
   "id": "e44dbd25-fb95-4b6b-bbbb-8da5fc817105",
   "metadata": {},
   "outputs": [],
   "source": [
    "def vector(item):\n",
    "    return model.encode([description(item)])"
   ]
  },
  {
   "cell_type": "code",
   "execution_count": 15,
   "id": "ffd5ee47-db5d-4263-b0d9-80d568c91341",
   "metadata": {},
   "outputs": [],
   "source": [
    "def find_similars(item):\n",
    "    results = collection.query(query_embeddings=vector(item).astype(float).tolist(), n_results=5)\n",
    "    documents = results['documents'][0][:]\n",
    "    prices = [m['price'] for m in results['metadatas'][0][:]]\n",
    "    return documents, prices"
   ]
  },
  {
   "cell_type": "code",
   "execution_count": 16,
   "id": "6f7b9ff9-fd90-4627-bb17-7c2f7bbd21f3",
   "metadata": {},
   "outputs": [
    {
     "name": "stdout",
     "output_type": "stream",
     "text": [
      "How much does this cost to the nearest dollar?\n",
      "\n",
      "Motorcraft YB3125 Fan Clutch\n",
      "Motorcraft YB3125 Fan Clutch Package Dimensions 25.146 cms (L) x 20.066 cms (W) x 15.494 cms (H) Package Quantity 1 Product Type Auto Part Country Of Origin China Manufacturer Motorcraft, Brand Motorcraft, Model Fan Clutch, Weight 5 pounds, Dimensions 10 x 7.63 x 6.25 inches, Country of Origin China, model number Exterior Painted, Manufacturer Part Rank Automotive Automotive Replacement Engine Fan Clutches 583, Domestic Shipping can be shipped within U.S., International Shipping This item can be shipped to select countries outside of the U.S. Learn More, Available October 10, 2007\n",
      "\n",
      "Price is $225.00\n"
     ]
    }
   ],
   "source": [
    "print(test[1].prompt)"
   ]
  },
  {
   "cell_type": "code",
   "execution_count": 17,
   "id": "ff1b2659-cc6b-47aa-a797-dd1cd3d1d6c3",
   "metadata": {},
   "outputs": [],
   "source": [
    "documents, prices = find_similars(test[1])"
   ]
  },
  {
   "cell_type": "code",
   "execution_count": 18,
   "id": "24756d4d-edac-41ce-bb80-c3b6f1cea7ee",
   "metadata": {},
   "outputs": [
    {
     "name": "stdout",
     "output_type": "stream",
     "text": [
      "To provide some context, here are some other items that might be similar to the item you need to estimate.\n",
      "\n",
      "Potentially related product:\n",
      "Four Seasons 78348 New AC Compressor\n",
      "New Compressor And Clutch Four Seasons 78348 New Nippondenso 10S17F Compressor w/ Clutch Part number 78348 Package Weight 14.55 pounds Package Dimensions 20.574 H x 28.194 L x 18.034 W (centimeters) Manufacturer Four Seasons, Brand Four Seasons, Weight 6 Pounds, Dimensions 11.3 x 7.2 x 7.8 inches, Country of Origin China, model number 78348, Manufacturer Part 78348, Voltage 120 Volts, Rank Automotive Automotive Replacement Air Conditioning Compressors 1383, Domestic Shipping can be shipped within U.S., International Shipping This item can be shipped to select countries outside of\n",
      "Price is $186.99\n",
      "\n",
      "Potentially related product:\n",
      "Clutch Kit Suzuki Carry Mazda Scrum DC51T DD51B DD51T Non-Turbo F6A Clutch Disc Cover\n",
      "Suzuki Carry Every (non-turbo) DC51T, DD51B, DD51T. Mazda Scrum (non-turbo) DJ51B DJ51T DK51B DK51T. DC51T DD51T DJ51B DJ51T DK51T DL51V DM51V 1 - Clutch Disc 170 mm x 18 teeth Aisin (Japan) 1 - Pressure Plate Aisin (Japan) 1 - Release Bearing Koyo (Japan) 1 - Pilot Bearing Koyo (Japan) Manufacturer GoldenGear, Brand GoldenGear, Weight 7.26 pounds, Dimensions \n",
      "Price is $295.00\n",
      "\n",
      "Potentially related product:\n",
      "Motorcraft - Hub Asy - Wheel\n",
      "Premium aftermarket replacement parts for Ford and Lincoln vehicles, Tested to provide performance and long-life reliability. Two-year unlimited mileage warranty, labor included and no commercial exceptions. Fit type Vehicle Specific Package Dimensions 7.31 L x 4.89 H x 6.25 W (inches) Package Weight 8.27 pounds Country of Origin United States Manufacturer Motorcraft, Brand Motorcraft, Model Wheel Hub, Weight 8 pounds, Dimensions 8.35 x 8.35 x 6.8 inches, model number HUB30, Exterior Painted, Manufacturer Part HUB30, OEM Part HUB30, Rank Automotive Automotive Replacement Hub Assemblies Bearings 32169, Available October 30, 2010\n",
      "Price is $244.84\n",
      "\n",
      "Potentially related product:\n",
      "Four Seasons 67291 Remanufactured Compressor with Clutch (Renewed)\n",
      "Remanufactured Compressor And Clutch Country Of Origin China Model Number 67291 Item Package Dimension 11.375 L x 7.0 W x 7.75 H Item Package Weight 16.6 lb Brand Four Seasons, Voltage 120 Volts, Power Source Corded Electric, Weight 16.15 Pounds, Dimensions LxWxH 11.4 x 7 x 7.8 inches, Style Portable, Manufacturer Four Seasons, Dimensions 11.4 x 7 x 7.8 inches, Country of Origin China, model number 67291, Manufacturer Part 67291, Rank Automotive Automotive Replacement Air Conditioning Compressors 14262,\n",
      "Price is $202.92\n",
      "\n",
      "Potentially related product:\n",
      "Standard Motor Products Fuel Vapor Canister - CP3118\n",
      "Fuel Vapor Canister Country Of Origin China The Package Height Of The Product Is 6.07 Inches The Package Length Of The Product Is 14.21 Inches The Package Width Of The Product Is 9.15 Inches Manufacturer Standard Motor Products, Brand Standard Motor Products, Model Fuel Vapor Canister, Weight 2.8 Pounds, Dimensions 14.5 x 4.38 x 7 inches, Country of Origin China, model number Exterior Machined, Manufacturer Part Rank Automotive Automotive Replacement Emission Vapor Canisters 743, Available August 10, 2009, Fit Type Vehicle Specific, Dimensions LxWxH 14.5 x 4.38 x 7 inches, Exterior Finish Machined\n",
      "Price is $130.55\n",
      "\n",
      "\n"
     ]
    }
   ],
   "source": [
    "print(make_context(documents, prices))"
   ]
  },
  {
   "cell_type": "code",
   "execution_count": 20,
   "id": "0b81eca2-0b58-4fe8-9dd6-47f13ba5f8ee",
   "metadata": {},
   "outputs": [
    {
     "data": {
      "text/plain": [
       "[{'role': 'system',\n",
       "  'content': 'You estimate prices of items. Reply only with the price, no explanation'},\n",
       " {'role': 'user',\n",
       "  'content': 'To provide some context, here are some other items that might be similar to the item you need to estimate.\\n\\nPotentially related product:\\nFour Seasons 78348 New AC Compressor\\nNew Compressor And Clutch Four Seasons 78348 New Nippondenso 10S17F Compressor w/ Clutch Part number 78348 Package Weight 14.55 pounds Package Dimensions 20.574 H x 28.194 L x 18.034 W (centimeters) Manufacturer Four Seasons, Brand Four Seasons, Weight 6 Pounds, Dimensions 11.3 x 7.2 x 7.8 inches, Country of Origin China, model number 78348, Manufacturer Part 78348, Voltage 120 Volts, Rank Automotive Automotive Replacement Air Conditioning Compressors 1383, Domestic Shipping can be shipped within U.S., International Shipping This item can be shipped to select countries outside of\\nPrice is $186.99\\n\\nPotentially related product:\\nClutch Kit Suzuki Carry Mazda Scrum DC51T DD51B DD51T Non-Turbo F6A Clutch Disc Cover\\nSuzuki Carry Every (non-turbo) DC51T, DD51B, DD51T. Mazda Scrum (non-turbo) DJ51B DJ51T DK51B DK51T. DC51T DD51T DJ51B DJ51T DK51T DL51V DM51V 1 - Clutch Disc 170 mm x 18 teeth Aisin (Japan) 1 - Pressure Plate Aisin (Japan) 1 - Release Bearing Koyo (Japan) 1 - Pilot Bearing Koyo (Japan) Manufacturer GoldenGear, Brand GoldenGear, Weight 7.26 pounds, Dimensions \\nPrice is $295.00\\n\\nPotentially related product:\\nMotorcraft - Hub Asy - Wheel\\nPremium aftermarket replacement parts for Ford and Lincoln vehicles, Tested to provide performance and long-life reliability. Two-year unlimited mileage warranty, labor included and no commercial exceptions. Fit type Vehicle Specific Package Dimensions 7.31 L x 4.89 H x 6.25 W (inches) Package Weight 8.27 pounds Country of Origin United States Manufacturer Motorcraft, Brand Motorcraft, Model Wheel Hub, Weight 8 pounds, Dimensions 8.35 x 8.35 x 6.8 inches, model number HUB30, Exterior Painted, Manufacturer Part HUB30, OEM Part HUB30, Rank Automotive Automotive Replacement Hub Assemblies Bearings 32169, Available October 30, 2010\\nPrice is $244.84\\n\\nPotentially related product:\\nFour Seasons 67291 Remanufactured Compressor with Clutch (Renewed)\\nRemanufactured Compressor And Clutch Country Of Origin China Model Number 67291 Item Package Dimension 11.375 L x 7.0 W x 7.75 H Item Package Weight 16.6 lb Brand Four Seasons, Voltage 120 Volts, Power Source Corded Electric, Weight 16.15 Pounds, Dimensions LxWxH 11.4 x 7 x 7.8 inches, Style Portable, Manufacturer Four Seasons, Dimensions 11.4 x 7 x 7.8 inches, Country of Origin China, model number 67291, Manufacturer Part 67291, Rank Automotive Automotive Replacement Air Conditioning Compressors 14262,\\nPrice is $202.92\\n\\nPotentially related product:\\nStandard Motor Products Fuel Vapor Canister - CP3118\\nFuel Vapor Canister Country Of Origin China The Package Height Of The Product Is 6.07 Inches The Package Length Of The Product Is 14.21 Inches The Package Width Of The Product Is 9.15 Inches Manufacturer Standard Motor Products, Brand Standard Motor Products, Model Fuel Vapor Canister, Weight 2.8 Pounds, Dimensions 14.5 x 4.38 x 7 inches, Country of Origin China, model number Exterior Machined, Manufacturer Part Rank Automotive Automotive Replacement Emission Vapor Canisters 743, Available August 10, 2009, Fit Type Vehicle Specific, Dimensions LxWxH 14.5 x 4.38 x 7 inches, Exterior Finish Machined\\nPrice is $130.55\\n\\nAnd now the question for you:\\n\\nHow much does this cost?\\n\\nMotorcraft YB3125 Fan Clutch\\nMotorcraft YB3125 Fan Clutch Package Dimensions 25.146 cms (L) x 20.066 cms (W) x 15.494 cms (H) Package Quantity 1 Product Type Auto Part Country Of Origin China Manufacturer Motorcraft, Brand Motorcraft, Model Fan Clutch, Weight 5 pounds, Dimensions 10 x 7.63 x 6.25 inches, Country of Origin China, model number Exterior Painted, Manufacturer Part Rank Automotive Automotive Replacement Engine Fan Clutches 583, Domestic Shipping can be shipped within U.S., International Shipping This item can be shipped to select countries outside of the U.S. Learn More, Available October 10, 2007'},\n",
       " {'role': 'assistant', 'content': 'Price is $'}]"
      ]
     },
     "execution_count": 20,
     "metadata": {},
     "output_type": "execute_result"
    }
   ],
   "source": [
    "messages_for(test[1], documents, prices)"
   ]
  },
  {
   "cell_type": "code",
   "execution_count": 21,
   "id": "d11f1c8d-7480-4d64-a274-b030d701f1b8",
   "metadata": {},
   "outputs": [],
   "source": [
    "def get_price(s):\n",
    "    s = s.replace('$','').replace(',','')\n",
    "    match = re.search(r\"[-+]?\\d*\\.\\d+|\\d+\", s)\n",
    "    return float(match.group()) if match else 0"
   ]
  },
  {
   "cell_type": "code",
   "execution_count": 22,
   "id": "06743833-c362-47f8-b02a-139be2cd52ab",
   "metadata": {},
   "outputs": [
    {
     "data": {
      "text/plain": [
       "99.99"
      ]
     },
     "execution_count": 22,
     "metadata": {},
     "output_type": "execute_result"
    }
   ],
   "source": [
    "get_price(\"The price for this is $99.99\")"
   ]
  },
  {
   "cell_type": "code",
   "execution_count": 23,
   "id": "a919cf7d-b3d3-4968-8c96-54a0da0b0219",
   "metadata": {},
   "outputs": [],
   "source": [
    "# The function for gpt-4o-mini\n",
    "\n",
    "def gpt_4o_mini_rag(item):\n",
    "    documents, prices = find_similars(item)\n",
    "    response = openai.chat.completions.create(\n",
    "        model=\"gpt-4o-mini\", \n",
    "        messages=messages_for(item, documents, prices),\n",
    "        seed=42,\n",
    "        max_tokens=5\n",
    "    )\n",
    "    reply = response.choices[0].message.content\n",
    "    return get_price(reply)"
   ]
  },
  {
   "cell_type": "code",
   "execution_count": 24,
   "id": "3e519e26-ff15-4425-90bb-bfbf55deb39b",
   "metadata": {},
   "outputs": [
    {
     "data": {
      "text/plain": [
       "115.0"
      ]
     },
     "execution_count": 24,
     "metadata": {},
     "output_type": "execute_result"
    }
   ],
   "source": [
    "gpt_4o_mini_rag(test[1])"
   ]
  },
  {
   "cell_type": "code",
   "execution_count": 25,
   "id": "ce78741b-2966-41d2-9831-cbf8f8d176be",
   "metadata": {},
   "outputs": [
    {
     "data": {
      "text/plain": [
       "225.11"
      ]
     },
     "execution_count": 25,
     "metadata": {},
     "output_type": "execute_result"
    }
   ],
   "source": [
    "test[1].price"
   ]
  },
  {
   "cell_type": "code",
   "execution_count": 26,
   "id": "16d90455-ff7d-4f5f-8b8c-8e061263d1c7",
   "metadata": {},
   "outputs": [
    {
     "name": "stdout",
     "output_type": "stream",
     "text": [
      "\u001b[93m1: Guess: $294.41 Truth: $374.41 Error: $80.00 SLE: 0.06 Item: OEM AC Compressor w/A/C Repair Kit For F...\u001b[0m\n",
      "\u001b[91m2: Guess: $115.00 Truth: $225.11 Error: $110.11 SLE: 0.45 Item: Motorcraft YB3125 Fan Clutch\u001b[0m\n",
      "\u001b[92m3: Guess: $75.99 Truth: $61.68 Error: $14.31 SLE: 0.04 Item: Dorman 603-159 Front Washer Fluid Reserv...\u001b[0m\n",
      "\u001b[93m4: Guess: $399.99 Truth: $599.99 Error: $200.00 SLE: 0.16 Item: HP Premium 17.3-inch HD Plus Touchscreen...\u001b[0m\n",
      "\u001b[92m5: Guess: $19.99 Truth: $16.99 Error: $3.00 SLE: 0.02 Item: 5-Position Super Switch Pickup Selector ...\u001b[0m\n",
      "\u001b[92m6: Guess: $15.99 Truth: $31.99 Error: $16.00 SLE: 0.44 Item: Horror Bookmarks, Resin Horror Bookmarks...\u001b[0m\n",
      "\u001b[92m7: Guess: $99.99 Truth: $101.79 Error: $1.80 SLE: 0.00 Item: SK6241 - Stinger 4 Gauge 6000 Series Pow...\u001b[0m\n",
      "\u001b[92m8: Guess: $269.00 Truth: $289.00 Error: $20.00 SLE: 0.01 Item: Godox ML60Bi LED Light Kit, Handheld LED...\u001b[0m\n",
      "\u001b[93m9: Guess: $499.99 Truth: $635.86 Error: $135.87 SLE: 0.06 Item: Randall RG75DG3PLUS G3 Plus 100-Watt Com...\u001b[0m\n",
      "\u001b[92m10: Guess: $66.99 Truth: $65.99 Error: $1.00 SLE: 0.00 Item: HOLDWILL 6 Pack LED Shop Light, 4FT 24W ...\u001b[0m\n",
      "\u001b[92m11: Guess: $204.95 Truth: $254.21 Error: $49.26 SLE: 0.05 Item: Viking Horns V103C/1005ATK 3 Gallon Air ...\u001b[0m\n",
      "\u001b[91m12: Guess: $149.99 Truth: $412.99 Error: $263.00 SLE: 1.02 Item: CURT 70110 Custom Tow Bar Base Plate Bra...\u001b[0m\n",
      "\u001b[91m13: Guess: $39.99 Truth: $205.50 Error: $165.51 SLE: 2.61 Item: 10-Pack Solar HAMMERED BRONZE Finish Pos...\u001b[0m\n",
      "\u001b[92m14: Guess: $239.99 Truth: $248.23 Error: $8.24 SLE: 0.00 Item: COSTWAY Electric Tumble Dryer, Sliver\u001b[0m\n",
      "\u001b[91m15: Guess: $199.99 Truth: $399.00 Error: $199.01 SLE: 0.47 Item: FREE SIGNAL TV Transit 32\" 12 Volt DC Po...\u001b[0m\n",
      "\u001b[92m16: Guess: $367.64 Truth: $373.94 Error: $6.30 SLE: 0.00 Item: Bilstein 5100 Monotube Gas Shock Set com...\u001b[0m\n",
      "\u001b[93m17: Guess: $149.99 Truth: $92.89 Error: $57.10 SLE: 0.23 Item: Sangean K-200 Multi-Function Upright AM/...\u001b[0m\n",
      "\u001b[92m18: Guess: $39.99 Truth: $51.99 Error: $12.00 SLE: 0.07 Item: Charles Leonard Magnetic Lapboard Class ...\u001b[0m\n",
      "\u001b[91m19: Guess: $289.99 Truth: $179.00 Error: $110.99 SLE: 0.23 Item: Gigabyte AMD Radeon HD 7870 2 GB GDDR5 D...\u001b[0m\n",
      "\u001b[92m20: Guess: $12.99 Truth: $19.42 Error: $6.43 SLE: 0.14 Item: 3dRose LLC 8 x 8 x 0.25 Inches Bull Terr...\u001b[0m\n",
      "\u001b[92m21: Guess: $449.00 Truth: $539.95 Error: $90.95 SLE: 0.03 Item: ROKINON 85mm F1.4 Auto Focus Full Frame ...\u001b[0m\n",
      "\u001b[93m22: Guess: $189.99 Truth: $147.67 Error: $42.32 SLE: 0.06 Item: AUTOSAVER88 Headlight Assembly Compatibl...\u001b[0m\n",
      "\u001b[93m23: Guess: $79.99 Truth: $24.99 Error: $55.00 SLE: 1.29 Item: ASI NAUTICAL 2.5 Inches Opera Glasses Bi...\u001b[0m\n",
      "\u001b[91m24: Guess: $49.00 Truth: $149.00 Error: $100.00 SLE: 1.21 Item: Behringer TUBE OVERDRIVE TO100 Authentic...\u001b[0m\n",
      "\u001b[92m25: Guess: $19.99 Truth: $16.99 Error: $3.00 SLE: 0.02 Item: Fun Express Insect Finger Puppets - 24 f...\u001b[0m\n",
      "\u001b[92m26: Guess: $14.99 Truth: $7.99 Error: $7.00 SLE: 0.33 Item: WAFJAMF Roller Stamp Identity Theft Stam...\u001b[0m\n",
      "\u001b[92m27: Guess: $220.00 Truth: $199.99 Error: $20.01 SLE: 0.01 Item: Capulina Tiffany Floor Lamp 2-Light 16\" ...\u001b[0m\n",
      "\u001b[92m28: Guess: $239.99 Truth: $251.45 Error: $11.46 SLE: 0.00 Item: Apple Watch Series 6 (GPS, 44mm) - Space...\u001b[0m\n",
      "\u001b[92m29: Guess: $194.30 Truth: $231.62 Error: $37.32 SLE: 0.03 Item: ICON 01725 Tandem Axle Fender Skirt FS17...\u001b[0m\n",
      "\u001b[93m30: Guess: $209.99 Truth: $135.00 Error: $74.99 SLE: 0.19 Item: SanDisk 128GB Ultra (10 Pack) MicroSD Cl...\u001b[0m\n",
      "\u001b[91m31: Guess: $179.99 Truth: $356.62 Error: $176.63 SLE: 0.46 Item: Velvac 2020,L,C/Hr,W,E2003,102\",Bk - 715...\u001b[0m\n",
      "\u001b[92m32: Guess: $249.99 Truth: $257.99 Error: $8.00 SLE: 0.00 Item: TCMT Passenger Backrest Sissy Bar & Lugg...\u001b[0m\n",
      "\u001b[92m33: Guess: $29.99 Truth: $27.99 Error: $2.00 SLE: 0.00 Item: Alnicov 63.5MM Brass Tremolo Block，Tremo...\u001b[0m\n",
      "\u001b[93m34: Guess: $95.99 Truth: $171.20 Error: $75.21 SLE: 0.33 Item: Subaru Forester Outback Legacy OEM Engin...\u001b[0m\n",
      "\u001b[92m35: Guess: $239.00 Truth: $225.00 Error: $14.00 SLE: 0.00 Item: Richmond Auto Upholstery - 2012 Dodge Ra...\u001b[0m\n",
      "\u001b[92m36: Guess: $89.99 Truth: $105.00 Error: $15.01 SLE: 0.02 Item: AP-39 Automotive Paint Primer Grey 2K Ur...\u001b[0m\n",
      "\u001b[92m37: Guess: $299.99 Truth: $299.99 Error: $0.00 SLE: 0.00 Item: Road Top Wireless Carplay Retrofit Kit D...\u001b[0m\n",
      "\u001b[92m38: Guess: $498.99 Truth: $535.09 Error: $36.10 SLE: 0.00 Item: Gibson Performance Exhaust 5658 Aluminiz...\u001b[0m\n",
      "\u001b[92m39: Guess: $12.99 Truth: $12.33 Error: $0.66 SLE: 0.00 Item: Bella Tunno Happy Links - Baby Montessor...\u001b[0m\n",
      "\u001b[92m40: Guess: $99.99 Truth: $84.99 Error: $15.00 SLE: 0.03 Item: CANMORE H300 Handheld GPS Golf Device, S...\u001b[0m\n",
      "\u001b[92m41: Guess: $24.99 Truth: $15.99 Error: $9.00 SLE: 0.18 Item: DCPOWER AC Adapter Compatible Replacemen...\u001b[0m\n",
      "\u001b[93m42: Guess: $14.99 Truth: $62.44 Error: $47.45 SLE: 1.90 Item: Sharp, VX2128V, Commercial Desktop Calcu...\u001b[0m\n",
      "\u001b[93m43: Guess: $129.99 Truth: $82.99 Error: $47.00 SLE: 0.20 Item: Melissa & Doug Lifelike Plush Stork Gian...\u001b[0m\n",
      "\u001b[91m44: Guess: $249.99 Truth: $599.95 Error: $349.96 SLE: 0.76 Item: Sony SSCS8 2-Way 3-Driver Center Channel...\u001b[0m\n",
      "\u001b[92m45: Guess: $229.99 Truth: $194.99 Error: $35.00 SLE: 0.03 Item: ASUS Chromebook CX1, 14\" Full HD NanoEdg...\u001b[0m\n",
      "\u001b[93m46: Guess: $449.99 Truth: $344.95 Error: $105.04 SLE: 0.07 Item: FiiO X7 32GB Hi-Res Lossless Music Playe...\u001b[0m\n",
      "\u001b[92m47: Guess: $37.99 Truth: $37.99 Error: $0.00 SLE: 0.00 Item: TORRO Leather Case Compatible with iPhon...\u001b[0m\n",
      "\u001b[92m48: Guess: $198.75 Truth: $224.35 Error: $25.60 SLE: 0.01 Item: Universal Air Conditioner KT 1031 A/C Co...\u001b[0m\n",
      "\u001b[92m49: Guess: $849.00 Truth: $814.00 Error: $35.00 SLE: 0.00 Item: Street Series Stainless Performance Cat-...\u001b[0m\n",
      "\u001b[92m50: Guess: $389.00 Truth: $439.88 Error: $50.88 SLE: 0.02 Item: Lenovo IdeaPad 3 14-inch Laptop, 14.0-in...\u001b[0m\n",
      "\u001b[93m51: Guess: $249.99 Truth: $341.43 Error: $91.44 SLE: 0.10 Item: Access Bed Covers TonnoSport 22050219 - ...\u001b[0m\n",
      "\u001b[92m52: Guess: $19.99 Truth: $46.78 Error: $26.79 SLE: 0.68 Item: G.I. JOE Hasbro 3 3/4\" Wave 5 Action Fig...\u001b[0m\n",
      "\u001b[92m53: Guess: $196.45 Truth: $171.44 Error: $25.01 SLE: 0.02 Item: T&S Brass B-0232-BST Double Pantry Fauce...\u001b[0m\n",
      "\u001b[93m54: Guess: $365.00 Truth: $458.00 Error: $93.00 SLE: 0.05 Item: ZTUOAUMA Fuel Injection Pump 3090942 309...\u001b[0m\n",
      "\u001b[92m55: Guess: $139.99 Truth: $130.75 Error: $9.24 SLE: 0.00 Item: 2AP18AA#ABA Hp Prime Graphing Calculator...\u001b[0m\n",
      "\u001b[93m56: Guess: $24.99 Truth: $83.81 Error: $58.82 SLE: 1.40 Item: Lowrance 000-0119-83 Nmea 2000 25' Exten...\u001b[0m\n",
      "\u001b[91m57: Guess: $154.99 Truth: $386.39 Error: $231.40 SLE: 0.83 Item: Jeep Genuine Accessories 82213051 Hood L...\u001b[0m\n",
      "\u001b[92m58: Guess: $149.99 Truth: $169.00 Error: $19.01 SLE: 0.01 Item: GODOX CB-06 Hard Carrying Case with Whee...\u001b[0m\n",
      "\u001b[92m59: Guess: $19.95 Truth: $17.95 Error: $2.00 SLE: 0.01 Item: Au-Tomotive Gold, INC. Ford Black Valet ...\u001b[0m\n",
      "\u001b[93m60: Guess: $339.00 Truth: $269.00 Error: $70.00 SLE: 0.05 Item: Snailfly Black Roof Rack Rail + Cross Ba...\u001b[0m\n",
      "\u001b[93m61: Guess: $29.99 Truth: $77.77 Error: $47.78 SLE: 0.87 Item: KING SHA Anti Glare LED Track Lighting H...\u001b[0m\n",
      "\u001b[92m62: Guess: $82.99 Truth: $88.99 Error: $6.00 SLE: 0.00 Item: APS Compatible with Chevy Silverado 1500...\u001b[0m\n",
      "\u001b[92m63: Guess: $412.99 Truth: $364.41 Error: $48.58 SLE: 0.02 Item: Wilwood Engineering 14011291R Brake Cali...\u001b[0m\n",
      "\u001b[92m64: Guess: $122.20 Truth: $127.03 Error: $4.83 SLE: 0.00 Item: ACDelco Gold 336-1925A Starter, Remanufa...\u001b[0m\n",
      "\u001b[93m65: Guess: $579.95 Truth: $778.95 Error: $199.00 SLE: 0.09 Item: UWS EC10783 69-Inch Matte Black Heavy-Wa...\u001b[0m\n",
      "\u001b[92m66: Guess: $229.99 Truth: $206.66 Error: $23.33 SLE: 0.01 Item: Dell Latitude E5440 14in Business Laptop...\u001b[0m\n",
      "\u001b[92m67: Guess: $24.99 Truth: $35.94 Error: $10.95 SLE: 0.12 Item: (Plug and Play) Spare Tire Brake Light W...\u001b[0m\n",
      "\u001b[92m68: Guess: $109.99 Truth: $149.00 Error: $39.01 SLE: 0.09 Item: The Ultimate Roadside Rescue Assistant\u001b[0m\n",
      "\u001b[92m69: Guess: $250.00 Truth: $251.98 Error: $1.98 SLE: 0.00 Item: Brand New 18\" x 8.5\" Replacement Wheel f...\u001b[0m\n",
      "\u001b[92m70: Guess: $198.00 Truth: $160.00 Error: $38.00 SLE: 0.04 Item: Headlight Headlamp LH Left & RH Right Pa...\u001b[0m\n",
      "\u001b[92m71: Guess: $39.99 Truth: $39.99 Error: $0.00 SLE: 0.00 Item: Lilo And Stitch Deluxe Oversize Print La...\u001b[0m\n",
      "\u001b[93m72: Guess: $236.98 Truth: $362.41 Error: $125.43 SLE: 0.18 Item: AC Compressor & A/C Clutch For Hyundai A...\u001b[0m\n",
      "\u001b[92m73: Guess: $276.00 Truth: $344.00 Error: $68.00 SLE: 0.05 Item: House Of Troy PIN475-AB Pinnacle Collect...\u001b[0m\n",
      "\u001b[92m74: Guess: $28.99 Truth: $25.09 Error: $3.90 SLE: 0.02 Item: Juno T29 WH Floating Electrical Feed Sin...\u001b[0m\n",
      "\u001b[93m75: Guess: $97.45 Truth: $175.95 Error: $78.50 SLE: 0.34 Item: Sherman GO-PARTS - for 2013-2016 Toyota ...\u001b[0m\n",
      "\u001b[92m76: Guess: $99.99 Truth: $132.64 Error: $32.65 SLE: 0.08 Item: Roland RPU-3 Electronic Keyboard Pedal o...\u001b[0m\n",
      "\u001b[93m77: Guess: $299.99 Truth: $422.99 Error: $123.00 SLE: 0.12 Item: Rockland VMI14 12,000 Pound 12 Volt DC E...\u001b[0m\n",
      "\u001b[92m78: Guess: $150.65 Truth: $146.48 Error: $4.17 SLE: 0.00 Item: Max Advanced Brakes Elite XDS Front Cros...\u001b[0m\n",
      "\u001b[92m79: Guess: $178.99 Truth: $156.83 Error: $22.16 SLE: 0.02 Item: Quality-Built 11030 Premium Quality Alte...\u001b[0m\n",
      "\u001b[93m80: Guess: $179.99 Truth: $251.99 Error: $72.00 SLE: 0.11 Item: Lucida LG-510 Student Classical Guitar, ...\u001b[0m\n",
      "\u001b[91m81: Guess: $278.99 Truth: $940.33 Error: $661.34 SLE: 1.47 Item: Longacre 52-79800 Aluminum Turn Plates\u001b[0m\n",
      "\u001b[92m82: Guess: $47.99 Truth: $52.99 Error: $5.00 SLE: 0.01 Item: Motion Pro 08-0380 Adjustable Torque Wre...\u001b[0m\n",
      "\u001b[92m83: Guess: $229.00 Truth: $219.95 Error: $9.05 SLE: 0.00 Item: Glyph Thunderbolt 3 NVMe Dock (0 GB)\u001b[0m\n",
      "\u001b[92m84: Guess: $503.99 Truth: $441.03 Error: $62.96 SLE: 0.02 Item: TOYO Open Country MT Performance Radial ...\u001b[0m\n",
      "\u001b[92m85: Guess: $169.99 Truth: $168.98 Error: $1.01 SLE: 0.00 Item: Razer Seiren X USB Streaming Microphone ...\u001b[0m\n",
      "\u001b[92m86: Guess: $4.99 Truth: $2.49 Error: $2.50 SLE: 0.29 Item: Happy Birthday to Dad From Your Daughter...\u001b[0m\n",
      "\u001b[93m87: Guess: $49.99 Truth: $98.62 Error: $48.63 SLE: 0.45 Item: Little Tikes My Real Jam First Concert S...\u001b[0m\n",
      "\u001b[91m88: Guess: $99.99 Truth: $256.95 Error: $156.96 SLE: 0.88 Item: Studio M Peace and Harmony Art Pole Comm...\u001b[0m\n",
      "\u001b[92m89: Guess: $25.99 Truth: $30.99 Error: $5.00 SLE: 0.03 Item: MyVolts 12V Power Supply Adaptor Compati...\u001b[0m\n",
      "\u001b[93m90: Guess: $699.99 Truth: $569.84 Error: $130.15 SLE: 0.04 Item: Dell Latitude 7212 Rugged Extreme Tablet...\u001b[0m\n",
      "\u001b[91m91: Guess: $89.99 Truth: $177.99 Error: $88.00 SLE: 0.46 Item: Covermates Contour Fit Car Cover - Light...\u001b[0m\n",
      "\u001b[92m92: Guess: $1,049.00 Truth: $997.99 Error: $51.01 SLE: 0.00 Item: Westin 57-4025 Black HDX Grille Guard fi...\u001b[0m\n",
      "\u001b[93m93: Guess: $149.00 Truth: $219.00 Error: $70.00 SLE: 0.15 Item: Fieldpiece JL2 Job Link Wireless App Tra...\u001b[0m\n",
      "\u001b[91m94: Guess: $339.00 Truth: $225.55 Error: $113.45 SLE: 0.16 Item: hansgrohe Talis S Modern Premium Easy Cl...\u001b[0m\n",
      "\u001b[91m95: Guess: $1,599.00 Truth: $495.95 Error: $1,103.05 SLE: 1.37 Item: G-Technology G-SPEED eS PRO High-Perform...\u001b[0m\n",
      "\u001b[93m96: Guess: $649.99 Truth: $942.37 Error: $292.38 SLE: 0.14 Item: DreamLine SHDR-1960723L-01 Shower Door, ...\u001b[0m\n",
      "\u001b[92m97: Guess: $19.99 Truth: $1.94 Error: $18.05 SLE: 3.86 Item: Sanctuary Square Backplate Finish: Oiled...\u001b[0m\n",
      "\u001b[92m98: Guess: $257.95 Truth: $284.34 Error: $26.39 SLE: 0.01 Item: Pelican Protector 1750 Long Case - Multi...\u001b[0m\n",
      "\u001b[92m99: Guess: $210.50 Truth: $171.90 Error: $38.60 SLE: 0.04 Item: Brock Replacement Driver and Passenger H...\u001b[0m\n",
      "\u001b[92m100: Guess: $130.99 Truth: $144.99 Error: $14.00 SLE: 0.01 Item: Carlinkit Ai Box Mini, Android 11, Multi...\u001b[0m\n",
      "\u001b[91m101: Guess: $179.99 Truth: $470.47 Error: $290.48 SLE: 0.92 Item: StarDot NetCamLIVE2 YouTube Live Stream ...\u001b[0m\n",
      "\u001b[92m102: Guess: $59.99 Truth: $66.95 Error: $6.96 SLE: 0.01 Item: Atomic Compatible FILXXCAR0016 16x25x5 M...\u001b[0m\n",
      "\u001b[92m103: Guess: $144.99 Truth: $117.00 Error: $27.99 SLE: 0.05 Item: Bandai Awakening of S. H. s.h.figuarts s...\u001b[0m\n",
      "\u001b[93m104: Guess: $229.99 Truth: $172.14 Error: $57.85 SLE: 0.08 Item: Fit System 62135G Passenger Side Towing ...\u001b[0m\n",
      "\u001b[92m105: Guess: $388.76 Truth: $392.74 Error: $3.98 SLE: 0.00 Item: Black Horse Black Aluminum Exceed Runnin...\u001b[0m\n",
      "\u001b[92m106: Guess: $29.99 Truth: $16.99 Error: $13.00 SLE: 0.30 Item: Dearsun Twinkle Star Color Night Light P...\u001b[0m\n",
      "\u001b[92m107: Guess: $2.50 Truth: $1.34 Error: $1.16 SLE: 0.16 Item: Pokemon - Gallade Spirit Link (83/108) -...\u001b[0m\n",
      "\u001b[91m108: Guess: $199.99 Truth: $349.98 Error: $149.99 SLE: 0.31 Item: Ibanez GA34STCE-NT GIO Series Classical ...\u001b[0m\n",
      "\u001b[93m109: Guess: $459.99 Truth: $370.71 Error: $89.28 SLE: 0.05 Item: Set 2 Heavy Duty 12-16.5 12x16.5 12 Ply ...\u001b[0m\n",
      "\u001b[92m110: Guess: $69.99 Truth: $65.88 Error: $4.11 SLE: 0.00 Item: Hairpin Table Legs 28\" Heavy Duty Hairpi...\u001b[0m\n",
      "\u001b[93m111: Guess: $149.99 Truth: $229.99 Error: $80.00 SLE: 0.18 Item: Marada Racing Seat with Adjustable Slide...\u001b[0m\n",
      "\u001b[92m112: Guess: $24.99 Truth: $9.14 Error: $15.85 SLE: 0.89 Item: Remington Industries 24UL1007STRWHI25 24...\u001b[0m\n",
      "\u001b[91m113: Guess: $299.00 Truth: $199.00 Error: $100.00 SLE: 0.16 Item: Acer S3-391-6046 13.3-inch Ultrabook, In...\u001b[0m\n",
      "\u001b[92m114: Guess: $139.99 Truth: $109.99 Error: $30.00 SLE: 0.06 Item: ICBEAMER 7\" RGB LED Headlights Bulb Halo...\u001b[0m\n",
      "\u001b[93m115: Guess: $355.91 Truth: $570.42 Error: $214.51 SLE: 0.22 Item: R1 Concepts Front Rear Brakes and Rotors...\u001b[0m\n",
      "\u001b[91m116: Guess: $139.99 Truth: $279.99 Error: $140.00 SLE: 0.48 Item: Camplux 2.64 GPM Tankless , Outdoor Port...\u001b[0m\n",
      "\u001b[92m117: Guess: $34.99 Truth: $30.99 Error: $4.00 SLE: 0.01 Item: KNOKLOCK 10 Pack 3.75 Inch(96mm) Kitchen...\u001b[0m\n",
      "\u001b[92m118: Guess: $29.95 Truth: $31.99 Error: $2.04 SLE: 0.00 Item: Valley Enterprises Yaesu USB FTDI CT-62 ...\u001b[0m\n",
      "\u001b[92m119: Guess: $19.99 Truth: $15.90 Error: $4.09 SLE: 0.05 Item: G9 LED Light Bulbs，8W，75W 100W replaceme...\u001b[0m\n",
      "\u001b[93m120: Guess: $120.99 Truth: $45.99 Error: $75.00 SLE: 0.91 Item: ZCHAOZ 4 Lights Antique White Farmhouse ...\u001b[0m\n",
      "\u001b[92m121: Guess: $149.99 Truth: $113.52 Error: $36.47 SLE: 0.08 Item: Honeywell TH8320R1003 Honeywell VisionPr...\u001b[0m\n",
      "\u001b[92m122: Guess: $489.99 Truth: $516.99 Error: $27.00 SLE: 0.00 Item: Patriot Exhaust H8013-1 1-7/8\" Clippster...\u001b[0m\n",
      "\u001b[93m123: Guess: $125.00 Truth: $196.99 Error: $71.99 SLE: 0.20 Item: Fitrite Autopart New Front Left Driver S...\u001b[0m\n",
      "\u001b[92m124: Guess: $19.99 Truth: $46.55 Error: $26.56 SLE: 0.67 Item: Technical Precision Replacement for GE G...\u001b[0m\n",
      "\u001b[92m125: Guess: $316.58 Truth: $356.99 Error: $40.41 SLE: 0.01 Item: Covercraft Carhartt SeatSaver Front Row ...\u001b[0m\n",
      "\u001b[92m126: Guess: $349.00 Truth: $319.95 Error: $29.05 SLE: 0.01 Item: Sennheiser SD Pro 2 (506008) - Double-Si...\u001b[0m\n",
      "\u001b[93m127: Guess: $154.99 Truth: $96.06 Error: $58.93 SLE: 0.23 Item: Hitachi MAF0110 Mass Air Flow Sensor\u001b[0m\n",
      "\u001b[92m128: Guess: $209.99 Truth: $190.99 Error: $19.00 SLE: 0.01 Item: AmScope SE305R-P-LED-PS36A 10X-30X LED C...\u001b[0m\n",
      "\u001b[91m129: Guess: $79.99 Truth: $257.95 Error: $177.96 SLE: 1.35 Item: Front Left Driver Side Window Regulator ...\u001b[0m\n",
      "\u001b[92m130: Guess: $49.99 Truth: $62.95 Error: $12.96 SLE: 0.05 Item: Premium Replica Hubcap Set, Fits Nissan ...\u001b[0m\n",
      "\u001b[92m131: Guess: $24.99 Truth: $47.66 Error: $22.67 SLE: 0.39 Item: Excellerations Phonics Spelling Game for...\u001b[0m\n",
      "\u001b[91m132: Guess: $329.99 Truth: $226.99 Error: $103.00 SLE: 0.14 Item: RC4WD BigDog Dual Axle Scale Car/Truck T...\u001b[0m\n",
      "\u001b[92m133: Guess: $289.99 Truth: $359.95 Error: $69.96 SLE: 0.05 Item: Unknown Stage 2 Clutch Kit - Low Altitud...\u001b[0m\n",
      "\u001b[93m134: Guess: $36.99 Truth: $78.40 Error: $41.41 SLE: 0.54 Item: 2002-2008 Dodge Ram 1500 Mopar 4X4 Emble...\u001b[0m\n",
      "\u001b[93m135: Guess: $121.99 Truth: $172.77 Error: $50.78 SLE: 0.12 Item: Pro Comp Alloys Series 89 Wheel with Pol...\u001b[0m\n",
      "\u001b[92m136: Guess: $319.99 Truth: $316.45 Error: $3.54 SLE: 0.00 Item: Detroit Axle - Front Rear Strut & Coil S...\u001b[0m\n",
      "\u001b[92m137: Guess: $89.99 Truth: $87.99 Error: $2.00 SLE: 0.00 Item: ECCPP Rear Wheel Axle Replacement fit fo...\u001b[0m\n",
      "\u001b[92m138: Guess: $249.99 Truth: $226.63 Error: $23.36 SLE: 0.01 Item: Dell Latitude E6520 Intel i7-2720QM 2.20...\u001b[0m\n",
      "\u001b[92m139: Guess: $29.99 Truth: $31.49 Error: $1.50 SLE: 0.00 Item: F FIERCE CYCLE 251pcs Black Universal Mo...\u001b[0m\n",
      "\u001b[91m140: Guess: $279.00 Truth: $196.00 Error: $83.00 SLE: 0.12 Item: Flash Furniture 4 Pk. HERCULES Series 88...\u001b[0m\n",
      "\u001b[93m141: Guess: $29.99 Truth: $78.40 Error: $48.41 SLE: 0.89 Item: B&M 30287 Throttle Valve/Kickdown Cable,...\u001b[0m\n",
      "\u001b[91m142: Guess: $198.45 Truth: $116.25 Error: $82.20 SLE: 0.28 Item: Gates TCK226 PowerGrip Premium Timing Be...\u001b[0m\n",
      "\u001b[92m143: Guess: $145.99 Truth: $112.78 Error: $33.21 SLE: 0.07 Item: Monroe Shocks & Struts Quick-Strut 17149...\u001b[0m\n",
      "\u001b[92m144: Guess: $45.99 Truth: $27.32 Error: $18.67 SLE: 0.26 Item: Feit Electric BPMR16/GU10/930CA/6 35W EQ...\u001b[0m\n",
      "\u001b[93m145: Guess: $89.99 Truth: $145.91 Error: $55.92 SLE: 0.23 Item: Yellow Jacket 2806 Contractor Extension ...\u001b[0m\n",
      "\u001b[93m146: Guess: $228.75 Truth: $171.09 Error: $57.66 SLE: 0.08 Item: Garage-Pro Tailgate SET Compatible with ...\u001b[0m\n",
      "\u001b[91m147: Guess: $45.99 Truth: $167.95 Error: $121.96 SLE: 1.64 Item: 3M Perfect It Buffing and Polishing Kit ...\u001b[0m\n",
      "\u001b[92m148: Guess: $29.99 Truth: $28.49 Error: $1.50 SLE: 0.00 Item: Chinese Style Dollhouse Model DIY Miniat...\u001b[0m\n",
      "\u001b[92m149: Guess: $114.99 Truth: $122.23 Error: $7.24 SLE: 0.00 Item: Generic NRG Innovations SRK-161H Steerin...\u001b[0m\n",
      "\u001b[92m150: Guess: $49.99 Truth: $32.99 Error: $17.00 SLE: 0.16 Item: Learning Resources Coding Critters Range...\u001b[0m\n",
      "\u001b[92m151: Guess: $97.45 Truth: $71.20 Error: $26.25 SLE: 0.10 Item: Bosch Automotive 15463 Oxygen Sensor, OE...\u001b[0m\n",
      "\u001b[93m152: Guess: $45.99 Truth: $112.75 Error: $66.76 SLE: 0.78 Item: Case of 24-2 Inch Blue Painters Tape - 6...\u001b[0m\n",
      "\u001b[92m153: Guess: $165.99 Truth: $142.43 Error: $23.56 SLE: 0.02 Item: MOCA Engine Water Pump & Fan Clutch fit ...\u001b[0m\n",
      "\u001b[93m154: Guess: $289.00 Truth: $398.99 Error: $109.99 SLE: 0.10 Item: SAREMAS Foot Step Bars for Hyundai Palis...\u001b[0m\n",
      "\u001b[91m155: Guess: $899.99 Truth: $449.00 Error: $450.99 SLE: 0.48 Item: Gretsch G9210 Square Neck Boxcar Mahogan...\u001b[0m\n",
      "\u001b[93m156: Guess: $129.99 Truth: $189.00 Error: $59.01 SLE: 0.14 Item: NikoMaku Mirror Dash Cam Front and Rear ...\u001b[0m\n",
      "\u001b[92m157: Guess: $114.95 Truth: $120.91 Error: $5.96 SLE: 0.00 Item: Fenix HP25R v2.0 USB-C Rechargeable Head...\u001b[0m\n",
      "\u001b[93m158: Guess: $159.99 Truth: $203.53 Error: $43.54 SLE: 0.06 Item: R&L Racing Heavy Duty Roll-Up Soft Tonne...\u001b[0m\n",
      "\u001b[92m159: Guess: $399.99 Truth: $349.99 Error: $50.00 SLE: 0.02 Item: Garmin 010-02258-10 GPSMAP 64sx, Handhel...\u001b[0m\n",
      "\u001b[92m160: Guess: $16.99 Truth: $34.35 Error: $17.36 SLE: 0.46 Item: Brown 5-7/8\" X 8-1/2\" X 3/16\" Thick Heav...\u001b[0m\n",
      "\u001b[92m161: Guess: $399.99 Truth: $384.99 Error: $15.00 SLE: 0.00 Item: GAOMON PD2200 Pen Display & 20 Pen Nibs ...\u001b[0m\n",
      "\u001b[93m162: Guess: $259.00 Truth: $211.00 Error: $48.00 SLE: 0.04 Item: VXMOTOR for 97-03 Ford F150/F250 Lightdu...\u001b[0m\n",
      "\u001b[92m163: Guess: $135.00 Truth: $129.00 Error: $6.00 SLE: 0.00 Item: HP EliteBook 2540p Intel Core i7-640LM X...\u001b[0m\n",
      "\u001b[91m164: Guess: $30.00 Truth: $111.45 Error: $81.45 SLE: 1.66 Item: Green EPX Mixing Nozzles 100-Pack-fits 3...\u001b[0m\n",
      "\u001b[92m165: Guess: $49.99 Truth: $81.12 Error: $31.13 SLE: 0.23 Item: Box Partners 6 1/4 x 3 1/8\" 13 Pt. Manil...\u001b[0m\n",
      "\u001b[93m166: Guess: $329.99 Truth: $457.08 Error: $127.09 SLE: 0.11 Item: Vixen Air 1/2\" NPT Air Ride Suspension H...\u001b[0m\n",
      "\u001b[92m167: Guess: $59.99 Truth: $49.49 Error: $10.50 SLE: 0.04 Item: Smart Floor Lamp, 2700-6500K+RGBPink Mul...\u001b[0m\n",
      "\u001b[93m168: Guess: $29.99 Truth: $80.56 Error: $50.57 SLE: 0.94 Item: SOZG 324mm Wheelbase Body Shell RC Car B...\u001b[0m\n",
      "\u001b[93m169: Guess: $339.99 Truth: $278.39 Error: $61.60 SLE: 0.04 Item: Mickey Thompson ET Street S/S Racing Rad...\u001b[0m\n",
      "\u001b[92m170: Guess: $384.50 Truth: $364.50 Error: $20.00 SLE: 0.00 Item: Pirelli 275/40R20 106W XL RFT P0 PZ4-LUX...\u001b[0m\n",
      "\u001b[93m171: Guess: $454.99 Truth: $378.99 Error: $76.00 SLE: 0.03 Item: Torklift C3212 Rear Tie Down\u001b[0m\n",
      "\u001b[92m172: Guess: $165.26 Truth: $165.28 Error: $0.02 SLE: 0.00 Item: Cardone 78-4226 Remanufactured Ford Comp...\u001b[0m\n",
      "\u001b[93m173: Guess: $109.99 Truth: $56.74 Error: $53.25 SLE: 0.43 Item: Kidde AccessPoint 001798 Supra TouchPoin...\u001b[0m\n",
      "\u001b[93m174: Guess: $209.99 Truth: $307.95 Error: $97.96 SLE: 0.15 Item: 3M Protecta 3100414 Self Retracting Life...\u001b[0m\n",
      "\u001b[92m175: Guess: $59.99 Truth: $38.00 Error: $21.99 SLE: 0.20 Item: Plantronics 89435-01 Wired Headset, Blac...\u001b[0m\n",
      "\u001b[92m176: Guess: $49.99 Truth: $53.00 Error: $3.01 SLE: 0.00 Item: Logitech K750 Wireless Solar Keyboard fo...\u001b[0m\n",
      "\u001b[93m177: Guess: $649.00 Truth: $498.00 Error: $151.00 SLE: 0.07 Item: Olympus PEN E-PL9 Body Only with 3-Inch ...\u001b[0m\n",
      "\u001b[93m178: Guess: $110.99 Truth: $53.99 Error: $57.00 SLE: 0.51 Item: Beck/Arnley 051-6066 Hub & Bearing Assem...\u001b[0m\n",
      "\u001b[92m179: Guess: $329.00 Truth: $350.00 Error: $21.00 SLE: 0.00 Item: Eibach Pro-Kit Performance Springs E10-6...\u001b[0m\n",
      "\u001b[93m180: Guess: $198.99 Truth: $299.95 Error: $100.96 SLE: 0.17 Item: LEGO DC Batman 1989 Batwing 76161 Displa...\u001b[0m\n",
      "\u001b[93m181: Guess: $154.75 Truth: $94.93 Error: $59.82 SLE: 0.23 Item: Kingston Brass KS3608PL Restoration 4-In...\u001b[0m\n",
      "\u001b[92m182: Guess: $349.00 Truth: $379.00 Error: $30.00 SLE: 0.01 Item: Polk Vanishing Series 265-LS In-Wall 3-W...\u001b[0m\n",
      "\u001b[92m183: Guess: $289.95 Truth: $299.95 Error: $10.00 SLE: 0.00 Item: Spec-D Tuning LED Projector Headlights G...\u001b[0m\n",
      "\u001b[92m184: Guess: $15.99 Truth: $24.99 Error: $9.00 SLE: 0.18 Item: RICHMOND & FINCH Airpod Pro Case, Green ...\u001b[0m\n",
      "\u001b[93m185: Guess: $95.00 Truth: $41.04 Error: $53.96 SLE: 0.68 Item: LFA Industries 43B-5A-33JT 1/16-1/2-1.5-...\u001b[0m\n",
      "\u001b[91m186: Guess: $149.99 Truth: $327.90 Error: $177.91 SLE: 0.61 Item: SAUTVS LED Headlight Assembly for Slings...\u001b[0m\n",
      "\u001b[92m187: Guess: $15.99 Truth: $10.99 Error: $5.00 SLE: 0.12 Item: 2 Pack Combo Womens Safety Glasses Impac...\u001b[0m\n",
      "\u001b[92m188: Guess: $14.99 Truth: $14.99 Error: $0.00 SLE: 0.00 Item: Arepa - Venezuelan cuisine - Venezuela P...\u001b[0m\n",
      "\u001b[93m189: Guess: $18.99 Truth: $84.95 Error: $65.96 SLE: 2.13 Item: Schlage Lock Company KS23D2300 Padlock, ...\u001b[0m\n",
      "\u001b[92m190: Guess: $99.99 Truth: $111.00 Error: $11.01 SLE: 0.01 Item: Techni Mobili White Sit to Stand Mobile ...\u001b[0m\n",
      "\u001b[93m191: Guess: $199.00 Truth: $123.73 Error: $75.27 SLE: 0.22 Item: Special Lite Products Contemporary Wall ...\u001b[0m\n",
      "\u001b[92m192: Guess: $639.98 Truth: $557.38 Error: $82.60 SLE: 0.02 Item: Tascam DP-24SD 24-Track Digital Portastu...\u001b[0m\n",
      "\u001b[92m193: Guess: $109.99 Truth: $95.55 Error: $14.44 SLE: 0.02 Item: Glow Lighting 636CC10SP Vista Crystal Fl...\u001b[0m\n",
      "\u001b[92m194: Guess: $159.99 Truth: $154.00 Error: $5.99 SLE: 0.00 Item: Z3 Wind Deflector, Smoke Tint, Lexan, Wi...\u001b[0m\n",
      "\u001b[92m195: Guess: $199.99 Truth: $198.99 Error: $1.00 SLE: 0.00 Item: Olympus E-20 5MP Digital Camera w/ 4x Op...\u001b[0m\n",
      "\u001b[91m196: Guess: $165.00 Truth: $430.44 Error: $265.44 SLE: 0.91 Item: PHYNEDI 1:1000 World Trade Center (1973-...\u001b[0m\n",
      "\u001b[92m197: Guess: $24.99 Truth: $45.67 Error: $20.68 SLE: 0.34 Item: YANGHUAN Unstable Unicorns Adventure Car...\u001b[0m\n",
      "\u001b[93m198: Guess: $149.99 Truth: $249.00 Error: $99.01 SLE: 0.25 Item: Interlogix NX-1820E NetworX Touch Screen...\u001b[0m\n",
      "\u001b[92m199: Guess: $75.99 Truth: $42.99 Error: $33.00 SLE: 0.31 Item: Steering Damper,Universal Motorcycle Han...\u001b[0m\n",
      "\u001b[93m200: Guess: $249.99 Truth: $181.33 Error: $68.66 SLE: 0.10 Item: Amprobe TIC 410A Hot Stick Attachment\u001b[0m\n",
      "\u001b[92m201: Guess: $2.99 Truth: $6.03 Error: $3.04 SLE: 0.32 Item: MyCableMart 3.5mm Plug/Jack, 4 Conductor...\u001b[0m\n",
      "\u001b[92m202: Guess: $49.99 Truth: $29.99 Error: $20.00 SLE: 0.25 Item: OtterBox + Pop Symmetry Series Case for ...\u001b[0m\n",
      "\u001b[92m203: Guess: $749.99 Truth: $899.00 Error: $149.01 SLE: 0.03 Item: Dell XPS X8700-1572BLK Desktop ( Intel C...\u001b[0m\n",
      "\u001b[93m204: Guess: $499.99 Truth: $399.99 Error: $100.00 SLE: 0.05 Item: Franklin Iron Works Sperry Industrial Br...\u001b[0m\n",
      "\u001b[92m205: Guess: $13.99 Truth: $4.66 Error: $9.33 SLE: 0.95 Item: Avery Legal Dividers, Standard Collated ...\u001b[0m\n",
      "\u001b[93m206: Guess: $340.00 Truth: $261.41 Error: $78.59 SLE: 0.07 Item: Moen 8346 Commercial Posi-Temp Pressure ...\u001b[0m\n",
      "\u001b[92m207: Guess: $120.99 Truth: $136.97 Error: $15.98 SLE: 0.02 Item: Carlisle Versa Trail ATR All Terrain Rad...\u001b[0m\n",
      "\u001b[91m208: Guess: $159.99 Truth: $79.00 Error: $80.99 SLE: 0.49 Item: SUNWAYFOTO 44mm Tripod Ball Head Arca Co...\u001b[0m\n",
      "\u001b[91m209: Guess: $229.60 Truth: $444.99 Error: $215.39 SLE: 0.44 Item: NanoBeam AC NBE-5AC-Gen2-US 4 Units 5GHz...\u001b[0m\n",
      "\u001b[91m210: Guess: $209.99 Truth: $411.94 Error: $201.95 SLE: 0.45 Item: WULF 4\" Front 2\" Rear Leveling Lift Kit ...\u001b[0m\n",
      "\u001b[92m211: Guess: $149.99 Truth: $148.40 Error: $1.59 SLE: 0.00 Item: Alera ALEVABFMC Valencia Series Mobile B...\u001b[0m\n",
      "\u001b[91m212: Guess: $99.99 Truth: $244.99 Error: $145.00 SLE: 0.79 Item: YU-GI-OH! Ignition Assault Booster Box\u001b[0m\n",
      "\u001b[91m213: Guess: $179.99 Truth: $86.50 Error: $93.49 SLE: 0.53 Item: 48\" x 36\" Extra-Large Framed Magnetic Bl...\u001b[0m\n",
      "\u001b[91m214: Guess: $99.99 Truth: $297.95 Error: $197.96 SLE: 1.18 Item: Dell Latitude D620 Renewed Notebook PC\u001b[0m\n",
      "\u001b[93m215: Guess: $499.00 Truth: $399.99 Error: $99.01 SLE: 0.05 Item: acer Aspire 5 Laptop, AMD Ryzen 3 5300U ...\u001b[0m\n",
      "\u001b[91m216: Guess: $295.00 Truth: $599.00 Error: $304.00 SLE: 0.50 Item: Elk 31080/6RC-GRN 30 by 6-Inch Viva 6-Li...\u001b[0m\n",
      "\u001b[93m217: Guess: $49.99 Truth: $105.99 Error: $56.00 SLE: 0.55 Item: Barbie Top Model Doll\u001b[0m\n",
      "\u001b[91m218: Guess: $399.99 Truth: $689.00 Error: $289.01 SLE: 0.29 Item: Danby Designer 20-In. Electric Range wit...\u001b[0m\n",
      "\u001b[91m219: Guess: $199.99 Truth: $404.99 Error: $205.00 SLE: 0.49 Item: FixtureDisplays® Metal Truss Podium Doub...\u001b[0m\n",
      "\u001b[93m220: Guess: $259.99 Truth: $207.76 Error: $52.23 SLE: 0.05 Item: ACDelco 13597235 GM Original Equipment A...\u001b[0m\n",
      "\u001b[91m221: Guess: $368.90 Truth: $171.82 Error: $197.08 SLE: 0.58 Item: EBC S1KF1135 Stage-1 Premium Street Brak...\u001b[0m\n",
      "\u001b[93m222: Guess: $359.99 Truth: $293.24 Error: $66.75 SLE: 0.04 Item: FXR Men's Boost FX Jacket (Black/Orange/...\u001b[0m\n",
      "\u001b[91m223: Guess: $599.95 Truth: $374.95 Error: $225.00 SLE: 0.22 Item: SuperATV Scratch Resistant 3-in-1 Flip W...\u001b[0m\n",
      "\u001b[92m224: Guess: $101.99 Truth: $111.99 Error: $10.00 SLE: 0.01 Item: SBU 3 Layer All Weather Mini Van Car Cov...\u001b[0m\n",
      "\u001b[92m225: Guess: $24.99 Truth: $42.99 Error: $18.00 SLE: 0.28 Item: 2 Pack Outdoor Brochure Holder Advertisi...\u001b[0m\n",
      "\u001b[92m226: Guess: $145.99 Truth: $116.71 Error: $29.28 SLE: 0.05 Item: Monroe Shocks & Struts Quick-Strut 17158...\u001b[0m\n",
      "\u001b[92m227: Guess: $149.99 Truth: $118.61 Error: $31.38 SLE: 0.05 Item: Elements of Design Magellan EB235AL Thre...\u001b[0m\n",
      "\u001b[93m228: Guess: $197.99 Truth: $147.12 Error: $50.87 SLE: 0.09 Item: GM Genuine Parts 15-62961 Air Conditioni...\u001b[0m\n",
      "\u001b[93m229: Guess: $199.00 Truth: $119.99 Error: $79.01 SLE: 0.25 Item: Baseus 17-in-1 USB C Docking Station to ...\u001b[0m\n",
      "\u001b[91m230: Guess: $149.00 Truth: $369.98 Error: $220.98 SLE: 0.82 Item: Whitehall™ Personalized Whitehall Capito...\u001b[0m\n",
      "\u001b[92m231: Guess: $319.99 Truth: $315.55 Error: $4.44 SLE: 0.00 Item: Pro Circuit Works Pipe PY05250 for 02-19...\u001b[0m\n",
      "\u001b[91m232: Guess: $299.99 Truth: $190.99 Error: $109.00 SLE: 0.20 Item: HYANKA 15 \"1200W Professional DJ Speaker...\u001b[0m\n",
      "\u001b[92m233: Guess: $175.00 Truth: $155.00 Error: $20.00 SLE: 0.01 Item: Bluetooth X6BT Card Reader Writer Encode...\u001b[0m\n",
      "\u001b[92m234: Guess: $319.99 Truth: $349.99 Error: $30.00 SLE: 0.01 Item: AIRAID Cold Air Intake System by K&N: In...\u001b[0m\n",
      "\u001b[93m235: Guess: $199.99 Truth: $249.99 Error: $50.00 SLE: 0.05 Item: Bostingner Shower Faucets Sets Complete,...\u001b[0m\n",
      "\u001b[92m236: Guess: $49.99 Truth: $42.99 Error: $7.00 SLE: 0.02 Item: PIT66 Front Bumper Turn Signal Lights, C...\u001b[0m\n",
      "\u001b[92m237: Guess: $24.99 Truth: $17.99 Error: $7.00 SLE: 0.10 Item: Caseology Bumpy Compatible with Google P...\u001b[0m\n",
      "\u001b[91m238: Guess: $249.99 Truth: $425.00 Error: $175.01 SLE: 0.28 Item: Fleck 2510 Timer Mechanical Filter Contr...\u001b[0m\n",
      "\u001b[93m239: Guess: $299.99 Truth: $249.99 Error: $50.00 SLE: 0.03 Item: Haloview MC7108 Wireless RV Backup Camer...\u001b[0m\n",
      "\u001b[91m240: Guess: $39.99 Truth: $138.23 Error: $98.24 SLE: 1.50 Item: Schmidt Spiele - Manhattan\u001b[0m\n",
      "\u001b[93m241: Guess: $259.99 Truth: $414.99 Error: $155.00 SLE: 0.22 Item: Corsa 14333 Tip Kit (Ford Mustang GT)\u001b[0m\n",
      "\u001b[91m242: Guess: $85.00 Truth: $168.28 Error: $83.28 SLE: 0.46 Item: Hoshizaki FM116A Fan Motor Kit 1\u001b[0m\n",
      "\u001b[92m243: Guess: $199.99 Truth: $199.99 Error: $0.00 SLE: 0.00 Item: BAINUO Antler Chandelier Lighting,6 Ligh...\u001b[0m\n",
      "\u001b[92m244: Guess: $135.99 Truth: $126.70 Error: $9.29 SLE: 0.00 Item: DNA MOTORING HL-OH-FEXP06-SM-AM Smoke Le...\u001b[0m\n",
      "\u001b[92m245: Guess: $12.50 Truth: $5.91 Error: $6.59 SLE: 0.45 Item: Wera Stainless 3840/1 TS 2.5mm Hex Inser...\u001b[0m\n",
      "\u001b[92m246: Guess: $199.95 Truth: $193.06 Error: $6.89 SLE: 0.00 Item: Celestron - PowerSeeker 127EQ Telescope ...\u001b[0m\n",
      "\u001b[91m247: Guess: $129.99 Truth: $249.99 Error: $120.00 SLE: 0.42 Item: NHOPEEW 10.1inch Android Car Radio Carpl...\u001b[0m\n",
      "\u001b[92m248: Guess: $59.99 Truth: $64.12 Error: $4.13 SLE: 0.00 Item: Other Harmonica (Suzuki-2Timer24- A)\u001b[0m\n",
      "\u001b[92m249: Guess: $139.99 Truth: $114.99 Error: $25.00 SLE: 0.04 Item: Harley Air Filter Venturi Intake Air Cle...\u001b[0m\n",
      "\u001b[91m250: Guess: $399.00 Truth: $926.00 Error: $527.00 SLE: 0.71 Item: Elite Screens Edge Free Ambient Light Re...\u001b[0m\n"
     ]
    },
    {
     "data": {
      "image/png": "[encoded data removed]",
      "text/plain": [
       "<Figure size 1200x800 with 1 Axes>"
      ]
     },
     "metadata": {},
     "output_type": "display_data"
    }
   ],
   "source": [
    "Tester.test(gpt_4o_mini_rag, test)"
   ]
  },
  {
   "cell_type": "markdown",
   "id": "d793c6d0-ce3f-4680-b37d-4643f0cd1d8e",
   "metadata": {},
   "source": [
    "## Optional Extra: Trying a DeepSeek API call instead of OpenAI\n",
    "\n",
    "If you have a DeepSeek API key, we will use it here as an alternative implementation; otherwise skip to the next section.."
   ]
  },
  {
   "cell_type": "code",
   "execution_count": null,
   "id": "21b6a22f-0195-47b6-8f6d-cab6ebe05742",
   "metadata": {},
   "outputs": [],
   "source": [
    "# Connect to DeepSeek using the OpenAI client python library\n",
    "\n",
    "deepseek_api_key = os.getenv(\"DEEPSEEK_API_KEY\")\n",
    "deepseek_via_openai_client = OpenAI(api_key=deepseek_api_key,base_url=\"https://api.deepseek.com\")"
   ]
  },
  {
   "cell_type": "code",
   "execution_count": null,
   "id": "ea7267d6-9489-4dac-a6e0-aec108e788c2",
   "metadata": {},
   "outputs": [],
   "source": [
    "# Added some retry logic here because DeepSeek is very oversubscribed and sometimes fails..\n",
    "\n",
    "def deepseek_api_rag(item):\n",
    "    documents, prices = find_similars(item)\n",
    "    retries = 8\n",
    "    done = False\n",
    "    while not done and retries > 0:\n",
    "        try:\n",
    "            response = deepseek_via_openai_client.chat.completions.create(\n",
    "                model=\"deepseek-chat\", \n",
    "                messages=messages_for(item, documents, prices),\n",
    "                seed=42,\n",
    "                max_tokens=8\n",
    "            )\n",
    "            reply = response.choices[0].message.content\n",
    "            done = True\n",
    "        except Exception as e:\n",
    "            print(f\"Error: {e}\")\n",
    "            retries -= 1\n",
    "    return get_price(reply)"
   ]
  },
  {
   "cell_type": "code",
   "execution_count": null,
   "id": "6560faf2-4dec-41e5-95e2-b2c46cdb3ba8",
   "metadata": {},
   "outputs": [],
   "source": [
    "deepseek_api_rag(test[1])"
   ]
  },
  {
   "cell_type": "code",
   "execution_count": null,
   "id": "0578b116-869f-429d-8382-701f1c0882f3",
   "metadata": {},
   "outputs": [],
   "source": [
    "Tester.test(deepseek_api_rag, test)"
   ]
  },
  {
   "cell_type": "markdown",
   "id": "6739870f-1eec-4547-965d-4b594e685697",
   "metadata": {},
   "source": [
    "## And now to wrap this in an \"Agent\" class"
   ]
  },
  {
   "cell_type": "code",
   "execution_count": 27,
   "id": "e6d5deb3-6a2a-4484-872c-37176c5e1f07",
   "metadata": {},
   "outputs": [],
   "source": [
    "from agents.frontier_agent import FrontierAgent"
   ]
  },
  {
   "cell_type": "code",
   "execution_count": 28,
   "id": "2efa7ba9-c2d7-4f95-8bb5-c4295bbeb01f",
   "metadata": {},
   "outputs": [],
   "source": [
    "# Let's print the logs so we can see what's going on\n",
    "\n",
    "import logging\n",
    "root = logging.getLogger()\n",
    "root.setLevel(logging.INFO)"
   ]
  },
  {
   "cell_type": "code",
   "execution_count": 29,
   "id": "56e8dd5d-ed36-49d8-95f7-dc82e548255b",
   "metadata": {},
   "outputs": [
    {
     "name": "stderr",
     "output_type": "stream",
     "text": [
      "INFO:root:\u001b[40m\u001b[34m[Frontier Agent] Initializing Frontier Agent\u001b[0m\n",
      "INFO:root:\u001b[40m\u001b[34m[Frontier Agent] Frontier Agent is setting up with OpenAI\u001b[0m\n",
      "INFO:sentence_transformers.SentenceTransformer:Use pytorch device_name: mps\n",
      "INFO:sentence_transformers.SentenceTransformer:Load pretrained SentenceTransformer: sentence-transformers/all-MiniLM-L6-v2\n",
      "INFO:root:\u001b[40m\u001b[34m[Frontier Agent] Frontier Agent is ready\u001b[0m\n"
     ]
    }
   ],
   "source": [
    "agent = FrontierAgent(collection)"
   ]
  },
  {
   "cell_type": "code",
   "execution_count": 30,
   "id": "980dd126-f675-4499-8817-0cc0bb73e247",
   "metadata": {},
   "outputs": [
    {
     "name": "stderr",
     "output_type": "stream",
     "text": [
      "INFO:root:\u001b[40m\u001b[34m[Frontier Agent] Frontier Agent is performing a RAG search of the Chroma datastore to find 5 similar products\u001b[0m\n"
     ]
    },
    {
     "data": {
      "application/vnd.jupyter.widget-view+json": {
       "model_id": "baa3b9fa78644951af4074d008ee20ff",
       "version_major": 2,
       "version_minor": 0
      },
      "text/plain": [
       "Batches:   0%|          | 0/1 [00:00<?, ?it/s]"
      ]
     },
     "metadata": {},
     "output_type": "display_data"
    },
    {
     "name": "stderr",
     "output_type": "stream",
     "text": [
      "INFO:root:\u001b[40m\u001b[34m[Frontier Agent] Frontier Agent has found similar products\u001b[0m\n",
      "INFO:root:\u001b[40m\u001b[34m[Frontier Agent] Frontier Agent is about to call gpt-4o-mini with context including 5 similar products\u001b[0m\n",
      "INFO:httpx:HTTP Request: POST https://api.openai.com/v1/chat/completions \"HTTP/1.1 200 OK\"\n",
      "INFO:root:\u001b[40m\u001b[34m[Frontier Agent] Frontier Agent completed - predicting $139.99\u001b[0m\n"
     ]
    },
    {
     "data": {
      "text/plain": [
       "139.99"
      ]
     },
     "execution_count": 30,
     "metadata": {},
     "output_type": "execute_result"
    }
   ],
   "source": [
    "agent.price(\"Quadcast HyperX condenser mic for high quality podcasting\")"
   ]
  },
  {
   "cell_type": "code",
   "execution_count": null,
   "id": "66c18a06-d0f1-4ec9-8aff-ec3ca294dd09",
   "metadata": {},
   "outputs": [],
   "source": [
    "from agents.specialist_agent import SpecialistAgent"
   ]
  },
  {
   "cell_type": "code",
   "execution_count": null,
   "id": "ba672fb4-2c3e-42ee-9ea0-21bfcfc5260c",
   "metadata": {},
   "outputs": [],
   "source": [
    "agent2 = SpecialistAgent()"
   ]
  },
  {
   "cell_type": "code",
   "execution_count": null,
   "id": "a5a97004-95b4-46ea-b12d-a4ead22fcb2a",
   "metadata": {},
   "outputs": [],
   "source": [
    "agent2.price(\"Quadcast HyperX condenser mic for high quality podcasting\")"
   ]
  },
  {
   "cell_type": "code",
   "execution_count": null,
   "id": "26d5ddc6-baa6-4760-a430-05671847ac47",
   "metadata": {},
   "outputs": [],
   "source": []
  }
 ],
 "metadata": {
  "kernelspec": {
   "display_name": "llms",
   "language": "python",
   "name": "python3"
  },
  "language_info": {
   "codemirror_mode": {
    "name": "ipython",
    "version": 3
   },
   "file_extension": ".py",
   "mimetype": "text/x-python",
   "name": "python",
   "nbconvert_exporter": "python",
   "pygments_lexer": "ipython3",
   "version": "3.11.13"
  }
 },
 "nbformat": 4,
 "nbformat_minor": 5
}
