{
 "cells": [
  {
   "cell_type": "markdown",
   "id": "0df0d850-49eb-4a0b-a27a-146969db710d",
   "metadata": {},
   "source": [
    "# The Price is Right\n",
    "\n",
    "Today we'll build another piece of the puzzle: a ScanningAgent that looks for promising deals by subscribing to RSS feeds."
   ]
  },
  {
   "cell_type": "code",
   "execution_count": 1,
   "id": "d3763a79-8a5a-4300-8de4-93e85475af10",
   "metadata": {},
   "outputs": [],
   "source": [
    "# imports\n",
    "\n",
    "import os\n",
    "import json\n",
    "from dotenv import load_dotenv\n",
    "from openai import OpenAI\n",
    "from agents.deals import ScrapedDeal, DealSelection"
   ]
  },
  {
   "cell_type": "code",
   "execution_count": 2,
   "id": "c6469e32-16c3-4443-9475-ade710ef6933",
   "metadata": {},
   "outputs": [],
   "source": [
    "# Initialize and constants\n",
    "\n",
    "load_dotenv(override=True)\n",
    "os.environ['OPENAI_API_KEY'] = os.getenv('OPENAI_API_KEY', 'your-key-if-not-using-env')\n",
    "MODEL = 'gpt-4o-mini'\n",
    "openai = OpenAI()"
   ]
  },
  {
   "cell_type": "code",
   "execution_count": 3,
   "id": "afece9db-8cd4-46be-ac57-0b472e84da7d",
   "metadata": {},
   "outputs": [
    {
     "name": "stderr",
     "output_type": "stream",
     "text": [
      "100%|██████████| 5/5 [01:17<00:00, 15.51s/it]\n"
     ]
    }
   ],
   "source": [
    "deals = ScrapedDeal.fetch(show_progress=True)"
   ]
  },
  {
   "cell_type": "code",
   "execution_count": 4,
   "id": "8cd15c4d-eb44-4601-bf0c-f945c1d8e3ec",
   "metadata": {},
   "outputs": [
    {
     "data": {
      "text/plain": [
       "50"
      ]
     },
     "execution_count": 4,
     "metadata": {},
     "output_type": "execute_result"
    }
   ],
   "source": [
    "len(deals)"
   ]
  },
  {
   "cell_type": "code",
   "execution_count": 5,
   "id": "4259f30a-6455-49ed-8863-2f9ddd4776cb",
   "metadata": {},
   "outputs": [
    {
     "data": {
      "text/plain": [
       "\"Title: Walmart Deals Week: Up to 70% off + free shipping w/ $35\\nDetails: Walmart's Deals Week event is still on for another two days, where you can shop lots of amazing deals and all-time lows on big-brand items (including LEGO, Apple, Samsung, and more). Although the banner says up to 50% off, we found deeper discounts within. Shipping is $6.99 or free on orders over $35 (pickup is also available, depending on your location) Shop Now at Walmart\\nFeatures: \\nURL: https://www.dealnews.com/Walmart-Deals-Week-Up-to-70-off-free-shipping-w-35/21752224.html?iref=rss-c196\""
      ]
     },
     "execution_count": 5,
     "metadata": {},
     "output_type": "execute_result"
    }
   ],
   "source": [
    "deals[44].describe()"
   ]
  },
  {
   "cell_type": "code",
   "execution_count": 6,
   "id": "8100e5ac-38f5-40c1-a712-08ae12c85038",
   "metadata": {},
   "outputs": [],
   "source": [
    "system_prompt = \"\"\"You identify and summarize the 5 most detailed deals from a list, by selecting deals that have the most detailed, high quality description and the most clear price.\n",
    "Respond strictly in JSON with no explanation, using this format. You should provide the price as a number derived from the description. If the price of a deal isn't clear, do not include that deal in your response.\n",
    "Most important is that you respond with the 5 deals that have the most detailed product description with price. It's not important to mention the terms of the deal; most important is a thorough description of the product.\n",
    "Be careful with products that are described as \"$XXX off\" or \"reduced by $XXX\" - this isn't the actual price of the product. Only respond with products when you are highly confident about the price. \n",
    "\n",
    "{\"deals\": [\n",
    "    {\n",
    "        \"product_description\": \"Your clearly expressed summary of the product in 4-5 sentences. Details of the item are much more important than why it's a good deal. Avoid mentioning discounts and coupons; focus on the item itself. There should be a paragpraph of text for each item you choose.\",\n",
    "        \"price\": 99.99,\n",
    "        \"url\": \"the url as provided\"\n",
    "    },\n",
    "    ...\n",
    "]}\"\"\""
   ]
  },
  {
   "cell_type": "code",
   "execution_count": 7,
   "id": "f4bca170-af71-40c9-9597-1d72980c74d8",
   "metadata": {},
   "outputs": [],
   "source": [
    "user_prompt = \"\"\"Respond with the most promising 5 deals from this list, selecting those which have the most detailed, high quality product description and a clear price.\n",
    "Respond strictly in JSON, and only JSON. You should rephrase the description to be a summary of the product itself, not the terms of the deal.\n",
    "Remember to respond with a paragraph of text in the product_description field for each of the 5 items that you select.\n",
    "Be careful with products that are described as \"$XXX off\" or \"reduced by $XXX\" - this isn't the actual price of the product. Only respond with products when you are highly confident about the price. \n",
    "\n",
    "Deals:\n",
    "\n",
    "\"\"\"\n",
    "user_prompt += '\\n\\n'.join([deal.describe() for deal in deals])"
   ]
  },
  {
   "cell_type": "code",
   "execution_count": 8,
   "id": "020947a6-561b-417b-98a0-a085e31d2ce3",
   "metadata": {},
   "outputs": [
    {
     "name": "stdout",
     "output_type": "stream",
     "text": [
      "Respond with the most promising 5 deals from this list, selecting those which have the most detailed, high quality product description and a clear price.\n",
      "Respond strictly in JSON, and only JSON. You should rephrase the description to be a summary of the product itself, not the terms of the deal.\n",
      "Remember to respond with a paragraph of text in the product_description field for each of the 5 items that you select.\n",
      "Be careful with products that are described as \"$XXX off\" or \"reduced by $XXX\" - this isn't the actual price of the product. Only respond with products when you are highly confident about the price. \n",
      "\n",
      "Deals:\n",
      "\n",
      "Title: Samsung Galaxy Watch Ultra 47mm LTE Smartwatch (2025) Pre-Order: $50 off + up to $250 off w/ trade-in + free shipping\n",
      "Details: It's now $500 with no trade required, $50 under our mention from yesterday. Plus, if you have a trade, you'll save up to another $250 off. The watch is due to release on July 25.  Shop Now at Samsung\n",
      "Features: \n",
      "URL: https://www.dealnews.com/Samsung-Galaxy-Watch-Ultra-47-mm-LTE-Smartwatch-2025-Pre-Order-50-off-up-to-250-off-w-trade-in-free-shipping/21752168.html?iref=rss-c142\n",
      "\n",
      "Title: Best Buy Open-Box Outlet TV Deals from $384 + free shipping\n",
      "Details: Shop nearly 40 models, with prices starting at $384. We've pictured the Open-Box Samsung DU7200 Sereis UN75DU7200FXZA 75\" 4K HDR UHD Smart TV from $384. Buy Now at Best Buy\n",
      "Features: \n",
      "URL: https://www.dealnews.com/Best-Buy-Open-Box-Outlet-TV-Deals-from-384-free-shipping/21752160.html?iref=rss-c142\n",
      "\n",
      "Title: Unlocked Samsung Galaxy Z Flip7 512GB Android Smartphone Pre-Order: $120 off + up to $600 off w/ trade + free shipping\n",
      "Details: You'll get the 512GB version for the price of the 256GB. You can also save up to an extra $600 on top of that with an eligible trade-in. Plus, it comes with a $50 credit ($200 with no trade) to put towards the purchase of accessories like headphones, smart watches, tablets and more. The phone is set to release on July 25.  Shop Now at Samsung\n",
      "Featur\n"
     ]
    }
   ],
   "source": [
    "print(user_prompt[:2000])"
   ]
  },
  {
   "cell_type": "code",
   "execution_count": 9,
   "id": "7de46f74-868c-4127-8a68-cf2da7d600bb",
   "metadata": {},
   "outputs": [],
   "source": [
    "def get_recommendations():\n",
    "    completion = openai.beta.chat.completions.parse(\n",
    "        model=\"gpt-4o-mini\",\n",
    "        messages=[\n",
    "            {\"role\": \"system\", \"content\": system_prompt},\n",
    "            {\"role\": \"user\", \"content\": user_prompt}\n",
    "      ],\n",
    "        response_format=DealSelection\n",
    "    )\n",
    "    result = completion.choices[0].message.parsed\n",
    "    return result"
   ]
  },
  {
   "cell_type": "code",
   "execution_count": 10,
   "id": "4c06270d-8c17-4d5a-9cfe-b6cefe788d5e",
   "metadata": {},
   "outputs": [],
   "source": [
    "result = get_recommendations()"
   ]
  },
  {
   "cell_type": "code",
   "execution_count": 11,
   "id": "84e62845-3338-441a-8161-c70097af4773",
   "metadata": {},
   "outputs": [
    {
     "data": {
      "text/plain": [
       "5"
      ]
     },
     "execution_count": 11,
     "metadata": {},
     "output_type": "execute_result"
    }
   ],
   "source": [
    "len(result.deals)"
   ]
  },
  {
   "cell_type": "code",
   "execution_count": 12,
   "id": "e5554a0a-ae40-4684-ad3e-faa3d22e030c",
   "metadata": {},
   "outputs": [
    {
     "data": {
      "text/plain": [
       "Deal(product_description='The Unlocked Samsung Galaxy Z Flip7 512GB Android Smartphone features a distinctive foldable design that makes it compact yet functional. With this model, you get substantial storage space alongside a premium feel and advanced camera capabilities, perfect for capturing high-quality images on the go. The phone is set to launch on July 25, and it brings cutting-edge technology to your fingertips, allowing for a seamless mobile experience.', price=999.99, url='https://www.dealnews.com/Unlocked-Samsung-Galaxy-Z-Flip7-512-GB-Android-Smartphone-Pre-Order-120-off-up-to-600-off-w-trade-free-shipping/21752156.html?iref=rss-c142')"
      ]
     },
     "execution_count": 12,
     "metadata": {},
     "output_type": "execute_result"
    }
   ],
   "source": [
    "result.deals[1]"
   ]
  },
  {
   "cell_type": "code",
   "execution_count": 13,
   "id": "8bdc57fb-7497-47af-a643-6ba5a21cc17e",
   "metadata": {},
   "outputs": [],
   "source": [
    "from agents.scanner_agent import ScannerAgent"
   ]
  },
  {
   "cell_type": "code",
   "execution_count": 14,
   "id": "132278bc-217a-43a6-b6c4-724140c6a225",
   "metadata": {},
   "outputs": [],
   "source": [
    "agent = ScannerAgent()\n",
    "result = agent.scan()"
   ]
  },
  {
   "cell_type": "code",
   "execution_count": 15,
   "id": "2e1d013a-c930-4dad-901b-41433379e14b",
   "metadata": {},
   "outputs": [
    {
     "data": {
      "text/plain": [
       "DealSelection(deals=[Deal(product_description='The Samsung Galaxy Watch Ultra 47mm LTE Smartwatch is a high-performance wearable, equipped with advanced health and fitness tracking features. Its robust 47mm frame houses an AMOLED display, providing vibrant visuals and easy readability. This smartwatch integrates seamless connectivity options and offers a variety of fitness modes, making it the ideal companion for both athletes and tech users alike. Scheduled for release on July 25, this model is priced at $500, ensuring a stylish and functional experience.', price=500.0, url='https://www.dealnews.com/Samsung-Galaxy-Watch-Ultra-47-mm-LTE-Smartwatch-2025-Pre-Order-50-off-up-to-250-off-w-trade-in-free-shipping/21752168.html?iref=rss-c142'), Deal(product_description='The Jackery 5000 Plus Power Station is a powerful and versatile energy solution, boasting a 5,040Wh capacity that is expandable up to 60kWh. It features a state-of-the-art LiFePO4 battery for enhanced safety and longevity. With smart app controls, dual voltage output, and an impressive 7,200W peak power, this power station keeps your devices functional even in emergencies. The included Explorer 300 Plus portable power station adds to its utility, making it a perfect choice for outdoor adventures or home backup.', price=2799.0, url='https://www.dealnews.com/products/Jackery/Jackery-5000-Plus-5-040-Wh-Power-Station/484764.html?iref=rss-c142'), Deal(product_description='The Birdfy Smart Bird Feeder is a unique device that combines a bird feeder with modern technology, featuring a camera that utilizes AI for species identification. It captures stunning full HD video while supporting night vision with 1080p clarity. Ideal for bird enthusiasts, it requires a 2.4GHz Wi-Fi connection and boasts a 135° wide-angle lens for optimal viewing. At a price of $106, this feeder is not only functional but also enhances your birdwatching experience.', price=106.0, url='https://www.dealnews.com/products/Birdfy-Smart-Bird-Feeder-with-Camera-and-AI-Species-Identification/491167.html?iref=rss-f1912'), Deal(product_description='The Keurig K-Supreme MultiStream Smart Coffee Maker is designed for coffee enthusiasts, offering five strength settings and multiple brew sizes ranging from 6 to 12 ounces. Equipped with a 66-ounce dual reservoir, it allows for brewing multiple cups before needing a refill. Not only does it ensure a personalized coffee experience, but it’s also user-friendly, making mornings smoother. Currently offered at $119, this coffee maker is a fantastic addition to any kitchen.', price=119.0, url='https://www.dealnews.com/products/Keurig/Keurig-K-Supreme-Multi-Stream-Smart-Coffee-Maker/491384.html?iref=rss-f1912'), Deal(product_description=\"The Genie 1-1/4 HPC Smart Belt Drive Garage Door Opener is a reliable and advanced solution for garage security and convenience. This model is specially designed for 8- or 10-foot doors, and it integrates the Aladdin Connect app for smartphone control. This innovative device allows users to monitor and operate their garage door from anywhere, ensuring peace of mind. Priced at $149, it's a high-quality choice for modern homeowners.\", price=149.0, url='https://www.dealnews.com/products/Genie/Genie-1-1-4-Hpc-Smart-Belt-Drive-Garage-Door-Opener/475536.html?iref=rss-f1912')])"
      ]
     },
     "execution_count": 15,
     "metadata": {},
     "output_type": "execute_result"
    }
   ],
   "source": [
    "result"
   ]
  },
  {
   "cell_type": "code",
   "execution_count": null,
   "id": "5ee2e837-1f1d-42d4-8bc4-51cccc343006",
   "metadata": {},
   "outputs": [],
   "source": []
  },
  {
   "cell_type": "code",
   "execution_count": null,
   "id": "63b84631",
   "metadata": {},
   "outputs": [],
   "source": []
  }
 ],
 "metadata": {
  "kernelspec": {
   "display_name": "llms",
   "language": "python",
   "name": "python3"
  },
  "language_info": {
   "codemirror_mode": {
    "name": "ipython",
    "version": 3
   },
   "file_extension": ".py",
   "mimetype": "text/x-python",
   "name": "python",
   "nbconvert_exporter": "python",
   "pygments_lexer": "ipython3",
   "version": "3.11.13"
  }
 },
 "nbformat": 4,
 "nbformat_minor": 5
}
